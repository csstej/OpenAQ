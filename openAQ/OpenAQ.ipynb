{
 "cells": [
  {
   "cell_type": "code",
   "execution_count": 5,
   "metadata": {},
   "outputs": [],
   "source": [
    "#Importing the Libraries and the dataset\n",
    "import requests\n",
    "import pandas as pd\n",
    "import csv\n",
    "import json\n",
    "\n",
    "url = \"https://api.openaq.org/v1/measurements?country=IN\""
   ]
  },
  {
   "cell_type": "code",
   "execution_count": 3,
   "metadata": {},
   "outputs": [
    {
     "name": "stdout",
     "output_type": "stream",
     "text": [
      "200\n",
      "{'meta': {'name': 'openaq-api', 'license': 'CC BY 4.0', 'website': 'https://docs.openaq.org/', 'page': 1, 'limit': 100, 'found': 34782808}, 'results': [{'location': 'North Campus, DU, Delhi - IMD', 'parameter': 'o3', 'date': {'utc': '2020-10-10T16:45:00Z', 'local': '2020-10-10T22:15:00+05:30'}, 'value': 32.14, 'unit': 'µg/m³', 'coordinates': {'latitude': 28.6573814, 'longitude': 77.1585447}, 'country': 'IN', 'city': 'Delhi'}, {'location': 'North Campus, DU, Delhi - IMD', 'parameter': 'no2', 'date': {'utc': '2020-10-10T16:45:00Z', 'local': '2020-10-10T22:15:00+05:30'}, 'value': 46.13, 'unit': 'µg/m³', 'coordinates': {'latitude': 28.6573814, 'longitude': 77.1585447}, 'country': 'IN', 'city': 'Delhi'}, {'location': 'North Campus, DU, Delhi - IMD', 'parameter': 'pm25', 'date': {'utc': '2020-10-10T16:45:00Z', 'local': '2020-10-10T22:15:00+05:30'}, 'value': 97.89, 'unit': 'µg/m³', 'coordinates': {'latitude': 28.6573814, 'longitude': 77.1585447}, 'country': 'IN', 'city': 'Delhi'}, {'location': 'Sector - 62, Noida - IMD', 'parameter': 'co', 'date': {'utc': '2020-10-10T16:45:00Z', 'local': '2020-10-10T22:15:00+05:30'}, 'value': 940, 'unit': 'µg/m³', 'coordinates': {'latitude': 28.6245479, 'longitude': 77.3577104}, 'country': 'IN', 'city': 'Noida'}, {'location': 'Sector - 62, Noida - IMD', 'parameter': 'pm10', 'date': {'utc': '2020-10-10T16:45:00Z', 'local': '2020-10-10T22:15:00+05:30'}, 'value': 252.53, 'unit': 'µg/m³', 'coordinates': {'latitude': 28.6245479, 'longitude': 77.3577104}, 'country': 'IN', 'city': 'Noida'}, {'location': 'CRRI Mathura Road, Delhi - IMD', 'parameter': 'o3', 'date': {'utc': '2020-10-10T16:45:00Z', 'local': '2020-10-10T22:15:00+05:30'}, 'value': 7.49, 'unit': 'µg/m³', 'coordinates': {'latitude': 28.5512005, 'longitude': 77.2735737}, 'country': 'IN', 'city': 'Delhi'}, {'location': 'CRRI Mathura Road, Delhi - IMD', 'parameter': 'no2', 'date': {'utc': '2020-10-10T16:45:00Z', 'local': '2020-10-10T22:15:00+05:30'}, 'value': 76.68, 'unit': 'µg/m³', 'coordinates': {'latitude': 28.5512005, 'longitude': 77.2735737}, 'country': 'IN', 'city': 'Delhi'}, {'location': 'CRRI Mathura Road, Delhi - IMD', 'parameter': 'pm25', 'date': {'utc': '2020-10-10T16:45:00Z', 'local': '2020-10-10T22:15:00+05:30'}, 'value': 88.49, 'unit': 'µg/m³', 'coordinates': {'latitude': 28.5512005, 'longitude': 77.2735737}, 'country': 'IN', 'city': 'Delhi'}, {'location': 'Aya Nagar, Delhi - IMD', 'parameter': 'o3', 'date': {'utc': '2020-10-10T16:45:00Z', 'local': '2020-10-10T22:15:00+05:30'}, 'value': 21.33, 'unit': 'µg/m³', 'coordinates': {'latitude': 28.4706914, 'longitude': 77.1099364}, 'country': 'IN', 'city': 'Delhi'}, {'location': 'Aya Nagar, Delhi - IMD', 'parameter': 'no2', 'date': {'utc': '2020-10-10T16:45:00Z', 'local': '2020-10-10T22:15:00+05:30'}, 'value': 29.61, 'unit': 'µg/m³', 'coordinates': {'latitude': 28.4706914, 'longitude': 77.1099364}, 'country': 'IN', 'city': 'Delhi'}, {'location': 'Aya Nagar, Delhi - IMD', 'parameter': 'pm25', 'date': {'utc': '2020-10-10T16:45:00Z', 'local': '2020-10-10T22:15:00+05:30'}, 'value': 103.52, 'unit': 'µg/m³', 'coordinates': {'latitude': 28.4706914, 'longitude': 77.1099364}, 'country': 'IN', 'city': 'Delhi'}, {'location': 'CRRI Mathura Road, Delhi - IMD', 'parameter': 'co', 'date': {'utc': '2020-10-10T16:45:00Z', 'local': '2020-10-10T22:15:00+05:30'}, 'value': 1530, 'unit': 'µg/m³', 'coordinates': {'latitude': 28.5512005, 'longitude': 77.2735737}, 'country': 'IN', 'city': 'Delhi'}, {'location': 'Lodhi Road, Delhi - IMD', 'parameter': 'o3', 'date': {'utc': '2020-10-10T16:45:00Z', 'local': '2020-10-10T22:15:00+05:30'}, 'value': 8.22, 'unit': 'µg/m³', 'coordinates': {'latitude': 28.5918245, 'longitude': 77.2273074}, 'country': 'IN', 'city': 'Delhi'}, {'location': 'Lodhi Road, Delhi - IMD', 'parameter': 'co', 'date': {'utc': '2020-10-10T16:45:00Z', 'local': '2020-10-10T22:15:00+05:30'}, 'value': 430, 'unit': 'µg/m³', 'coordinates': {'latitude': 28.5918245, 'longitude': 77.2273074}, 'country': 'IN', 'city': 'Delhi'}, {'location': 'Lodhi Road, Delhi - IMD', 'parameter': 'pm10', 'date': {'utc': '2020-10-10T16:45:00Z', 'local': '2020-10-10T22:15:00+05:30'}, 'value': 160.57, 'unit': 'µg/m³', 'coordinates': {'latitude': 28.5918245, 'longitude': 77.2273074}, 'country': 'IN', 'city': 'Delhi'}, {'location': 'Lodhi Road, Delhi - IMD', 'parameter': 'pm25', 'date': {'utc': '2020-10-10T16:45:00Z', 'local': '2020-10-10T22:15:00+05:30'}, 'value': 44.76, 'unit': 'µg/m³', 'coordinates': {'latitude': 28.5918245, 'longitude': 77.2273074}, 'country': 'IN', 'city': 'Delhi'}, {'location': 'CRRI Mathura Road, Delhi - IMD', 'parameter': 'pm10', 'date': {'utc': '2020-10-10T16:45:00Z', 'local': '2020-10-10T22:15:00+05:30'}, 'value': 243.36, 'unit': 'µg/m³', 'coordinates': {'latitude': 28.5512005, 'longitude': 77.2735737}, 'country': 'IN', 'city': 'Delhi'}, {'location': 'Aya Nagar, Delhi - IMD', 'parameter': 'co', 'date': {'utc': '2020-10-10T16:45:00Z', 'local': '2020-10-10T22:15:00+05:30'}, 'value': 1230, 'unit': 'µg/m³', 'coordinates': {'latitude': 28.4706914, 'longitude': 77.1099364}, 'country': 'IN', 'city': 'Delhi'}, {'location': 'Aya Nagar, Delhi - IMD', 'parameter': 'pm10', 'date': {'utc': '2020-10-10T16:45:00Z', 'local': '2020-10-10T22:15:00+05:30'}, 'value': 210.31, 'unit': 'µg/m³', 'coordinates': {'latitude': 28.4706914, 'longitude': 77.1099364}, 'country': 'IN', 'city': 'Delhi'}, {'location': 'Lodhi Road, Delhi - IMD', 'parameter': 'no2', 'date': {'utc': '2020-10-10T16:45:00Z', 'local': '2020-10-10T22:15:00+05:30'}, 'value': 16.07, 'unit': 'µg/m³', 'coordinates': {'latitude': 28.5918245, 'longitude': 77.2273074}, 'country': 'IN', 'city': 'Delhi'}, {'location': 'North Campus, DU, Delhi - IMD', 'parameter': 'co', 'date': {'utc': '2020-10-10T16:45:00Z', 'local': '2020-10-10T22:15:00+05:30'}, 'value': 470, 'unit': 'µg/m³', 'coordinates': {'latitude': 28.6573814, 'longitude': 77.1585447}, 'country': 'IN', 'city': 'Delhi'}, {'location': 'North Campus, DU, Delhi - IMD', 'parameter': 'pm10', 'date': {'utc': '2020-10-10T16:45:00Z', 'local': '2020-10-10T22:15:00+05:30'}, 'value': 222.22, 'unit': 'µg/m³', 'coordinates': {'latitude': 28.6573814, 'longitude': 77.1585447}, 'country': 'IN', 'city': 'Delhi'}, {'location': 'Sector - 62, Noida - IMD', 'parameter': 'o3', 'date': {'utc': '2020-10-10T16:45:00Z', 'local': '2020-10-10T22:15:00+05:30'}, 'value': 22.43, 'unit': 'µg/m³', 'coordinates': {'latitude': 28.6245479, 'longitude': 77.3577104}, 'country': 'IN', 'city': 'Noida'}, {'location': 'Sector - 62, Noida - IMD', 'parameter': 'no2', 'date': {'utc': '2020-10-10T16:45:00Z', 'local': '2020-10-10T22:15:00+05:30'}, 'value': 20.6, 'unit': 'µg/m³', 'coordinates': {'latitude': 28.6245479, 'longitude': 77.3577104}, 'country': 'IN', 'city': 'Noida'}, {'location': 'Sector - 62, Noida - IMD', 'parameter': 'pm25', 'date': {'utc': '2020-10-10T16:45:00Z', 'local': '2020-10-10T22:15:00+05:30'}, 'value': 100.77, 'unit': 'µg/m³', 'coordinates': {'latitude': 28.6245479, 'longitude': 77.3577104}, 'country': 'IN', 'city': 'Noida'}, {'location': 'Hyderabad', 'parameter': 'pm25', 'date': {'utc': '2020-10-10T16:30:00Z', 'local': '2020-10-10T22:00:00+05:30'}, 'value': 38, 'unit': 'µg/m³', 'coordinates': {'latitude': 17.38405, 'longitude': 78.45636}, 'country': 'IN', 'city': 'India'}, {'location': 'Mumbai', 'parameter': 'pm25', 'date': {'utc': '2020-10-10T16:30:00Z', 'local': '2020-10-10T22:00:00+05:30'}, 'value': 38, 'unit': 'µg/m³', 'coordinates': {'latitude': 19.07283, 'longitude': 72.88261}, 'country': 'IN', 'city': 'India'}, {'location': 'Kolkata', 'parameter': 'pm25', 'date': {'utc': '2020-10-10T16:30:00Z', 'local': '2020-10-10T22:00:00+05:30'}, 'value': 33, 'unit': 'µg/m³', 'coordinates': {'latitude': 22.56263, 'longitude': 88.36304}, 'country': 'IN', 'city': 'India'}, {'location': 'Chennai', 'parameter': 'pm25', 'date': {'utc': '2020-10-10T16:30:00Z', 'local': '2020-10-10T22:00:00+05:30'}, 'value': 45, 'unit': 'µg/m³', 'coordinates': {'latitude': 13.08784, 'longitude': 80.278475}, 'country': 'IN', 'city': 'India'}, {'location': 'New Delhi', 'parameter': 'pm25', 'date': {'utc': '2020-10-10T16:30:00Z', 'local': '2020-10-10T22:00:00+05:30'}, 'value': 88, 'unit': 'µg/m³', 'coordinates': {'latitude': 28.63576, 'longitude': 77.22445}, 'country': 'IN', 'city': 'India'}, {'location': 'US Diplomatic Post: Mumbai', 'parameter': 'pm25', 'date': {'utc': '2020-10-10T16:30:00Z', 'local': '2020-10-10T22:00:00+05:30'}, 'value': 36, 'unit': 'µg/m³', 'coordinates': {'latitude': 19.07283, 'longitude': 72.88261}, 'country': 'IN', 'city': 'Mumbai'}, {'location': 'Sector-2 Industrial Area, Pithampur - MPPCB', 'parameter': 'o3', 'date': {'utc': '2020-10-10T16:30:00Z', 'local': '2020-10-10T22:00:00+05:30'}, 'value': 56.8, 'unit': 'µg/m³', 'coordinates': {'latitude': 22.624758, 'longitude': 75.675238}, 'country': 'IN', 'city': 'Pithampur'}, {'location': 'Sector-2 Industrial Area, Pithampur - MPPCB', 'parameter': 'co', 'date': {'utc': '2020-10-10T16:30:00Z', 'local': '2020-10-10T22:00:00+05:30'}, 'value': 760, 'unit': 'µg/m³', 'coordinates': {'latitude': 22.624758, 'longitude': 75.675238}, 'country': 'IN', 'city': 'Pithampur'}, {'location': 'Sector-2 Industrial Area, Pithampur - MPPCB', 'parameter': 'so2', 'date': {'utc': '2020-10-10T16:30:00Z', 'local': '2020-10-10T22:00:00+05:30'}, 'value': 12.1, 'unit': 'µg/m³', 'coordinates': {'latitude': 22.624758, 'longitude': 75.675238}, 'country': 'IN', 'city': 'Pithampur'}, {'location': 'Sector-2 Industrial Area, Pithampur - MPPCB', 'parameter': 'no2', 'date': {'utc': '2020-10-10T16:30:00Z', 'local': '2020-10-10T22:00:00+05:30'}, 'value': 14.9, 'unit': 'µg/m³', 'coordinates': {'latitude': 22.624758, 'longitude': 75.675238}, 'country': 'IN', 'city': 'Pithampur'}, {'location': 'Sector-2 Industrial Area, Pithampur - MPPCB', 'parameter': 'pm10', 'date': {'utc': '2020-10-10T16:30:00Z', 'local': '2020-10-10T22:00:00+05:30'}, 'value': 217, 'unit': 'µg/m³', 'coordinates': {'latitude': 22.624758, 'longitude': 75.675238}, 'country': 'IN', 'city': 'Pithampur'}, {'location': 'Sector-2 Industrial Area, Pithampur - MPPCB', 'parameter': 'pm25', 'date': {'utc': '2020-10-10T16:30:00Z', 'local': '2020-10-10T22:00:00+05:30'}, 'value': 122, 'unit': 'µg/m³', 'coordinates': {'latitude': 22.624758, 'longitude': 75.675238}, 'country': 'IN', 'city': 'Pithampur'}, {'location': 'Mahakaleshwar Temple, Ujjain - MPPCB', 'parameter': 'o3', 'date': {'utc': '2020-10-10T16:30:00Z', 'local': '2020-10-10T22:00:00+05:30'}, 'value': 45.4, 'unit': 'µg/m³', 'coordinates': {'latitude': 23.182719, 'longitude': 75.768218}, 'country': 'IN', 'city': 'Ujjain'}, {'location': 'Mahakaleshwar Temple, Ujjain - MPPCB', 'parameter': 'co', 'date': {'utc': '2020-10-10T16:30:00Z', 'local': '2020-10-10T22:00:00+05:30'}, 'value': 980, 'unit': 'µg/m³', 'coordinates': {'latitude': 23.182719, 'longitude': 75.768218}, 'country': 'IN', 'city': 'Ujjain'}, {'location': 'Mahakaleshwar Temple, Ujjain - MPPCB', 'parameter': 'so2', 'date': {'utc': '2020-10-10T16:30:00Z', 'local': '2020-10-10T22:00:00+05:30'}, 'value': 6.4, 'unit': 'µg/m³', 'coordinates': {'latitude': 23.182719, 'longitude': 75.768218}, 'country': 'IN', 'city': 'Ujjain'}, {'location': 'Mahakaleshwar Temple, Ujjain - MPPCB', 'parameter': 'no2', 'date': {'utc': '2020-10-10T16:30:00Z', 'local': '2020-10-10T22:00:00+05:30'}, 'value': 35.5, 'unit': 'µg/m³', 'coordinates': {'latitude': 23.182719, 'longitude': 75.768218}, 'country': 'IN', 'city': 'Ujjain'}, {'location': 'Mahakaleshwar Temple, Ujjain - MPPCB', 'parameter': 'pm10', 'date': {'utc': '2020-10-10T16:30:00Z', 'local': '2020-10-10T22:00:00+05:30'}, 'value': 213, 'unit': 'µg/m³', 'coordinates': {'latitude': 23.182719, 'longitude': 75.768218}, 'country': 'IN', 'city': 'Ujjain'}, {'location': 'Mahakaleshwar Temple, Ujjain - MPPCB', 'parameter': 'pm25', 'date': {'utc': '2020-10-10T16:30:00Z', 'local': '2020-10-10T22:00:00+05:30'}, 'value': 98, 'unit': 'µg/m³', 'coordinates': {'latitude': 23.182719, 'longitude': 75.768218}, 'country': 'IN', 'city': 'Ujjain'}, {'location': 'Vindhyachal STPS, Singrauli - MPPCB', 'parameter': 'o3', 'date': {'utc': '2020-10-10T16:30:00Z', 'local': '2020-10-10T22:00:00+05:30'}, 'value': 27.4, 'unit': 'µg/m³', 'coordinates': {'latitude': 24.10897, 'longitude': 82.64558}, 'country': 'IN', 'city': 'Singrauli'}, {'location': 'Vindhyachal STPS, Singrauli - MPPCB', 'parameter': 'co', 'date': {'utc': '2020-10-10T16:30:00Z', 'local': '2020-10-10T22:00:00+05:30'}, 'value': 1110, 'unit': 'µg/m³', 'coordinates': {'latitude': 24.10897, 'longitude': 82.64558}, 'country': 'IN', 'city': 'Singrauli'}, {'location': 'Vindhyachal STPS, Singrauli - MPPCB', 'parameter': 'so2', 'date': {'utc': '2020-10-10T16:30:00Z', 'local': '2020-10-10T22:00:00+05:30'}, 'value': 23.1, 'unit': 'µg/m³', 'coordinates': {'latitude': 24.10897, 'longitude': 82.64558}, 'country': 'IN', 'city': 'Singrauli'}, {'location': 'Vindhyachal STPS, Singrauli - MPPCB', 'parameter': 'no2', 'date': {'utc': '2020-10-10T16:30:00Z', 'local': '2020-10-10T22:00:00+05:30'}, 'value': 32.8, 'unit': 'µg/m³', 'coordinates': {'latitude': 24.10897, 'longitude': 82.64558}, 'country': 'IN', 'city': 'Singrauli'}, {'location': 'Vindhyachal STPS, Singrauli - MPPCB', 'parameter': 'pm10', 'date': {'utc': '2020-10-10T16:30:00Z', 'local': '2020-10-10T22:00:00+05:30'}, 'value': 215, 'unit': 'µg/m³', 'coordinates': {'latitude': 24.10897, 'longitude': 82.64558}, 'country': 'IN', 'city': 'Singrauli'}, {'location': 'Vindhyachal STPS, Singrauli - MPPCB', 'parameter': 'pm25', 'date': {'utc': '2020-10-10T16:30:00Z', 'local': '2020-10-10T22:00:00+05:30'}, 'value': 44, 'unit': 'µg/m³', 'coordinates': {'latitude': 24.10897, 'longitude': 82.64558}, 'country': 'IN', 'city': 'Singrauli'}, {'location': 'Shrinath Puram, Kota - RSPCB', 'parameter': 'o3', 'date': {'utc': '2020-10-10T16:30:00Z', 'local': '2020-10-10T22:00:00+05:30'}, 'value': 10.22, 'unit': 'µg/m³', 'coordinates': {'latitude': 25.14389, 'longitude': 75.821256}, 'country': 'IN', 'city': 'Kota'}, {'location': 'Shrinath Puram, Kota - RSPCB', 'parameter': 'co', 'date': {'utc': '2020-10-10T16:30:00Z', 'local': '2020-10-10T22:00:00+05:30'}, 'value': 2000, 'unit': 'µg/m³', 'coordinates': {'latitude': 25.14389, 'longitude': 75.821256}, 'country': 'IN', 'city': 'Kota'}, {'location': 'Shrinath Puram, Kota - RSPCB', 'parameter': 'so2', 'date': {'utc': '2020-10-10T16:30:00Z', 'local': '2020-10-10T22:00:00+05:30'}, 'value': 10.49, 'unit': 'µg/m³', 'coordinates': {'latitude': 25.14389, 'longitude': 75.821256}, 'country': 'IN', 'city': 'Kota'}, {'location': 'Shrinath Puram, Kota - RSPCB', 'parameter': 'no2', 'date': {'utc': '2020-10-10T16:30:00Z', 'local': '2020-10-10T22:00:00+05:30'}, 'value': 28.29, 'unit': 'µg/m³', 'coordinates': {'latitude': 25.14389, 'longitude': 75.821256}, 'country': 'IN', 'city': 'Kota'}, {'location': 'Shrinath Puram, Kota - RSPCB', 'parameter': 'pm10', 'date': {'utc': '2020-10-10T16:30:00Z', 'local': '2020-10-10T22:00:00+05:30'}, 'value': 205, 'unit': 'µg/m³', 'coordinates': {'latitude': 25.14389, 'longitude': 75.821256}, 'country': 'IN', 'city': 'Kota'}, {'location': 'Shrinath Puram, Kota - RSPCB', 'parameter': 'pm25', 'date': {'utc': '2020-10-10T16:30:00Z', 'local': '2020-10-10T22:00:00+05:30'}, 'value': 161.5, 'unit': 'µg/m³', 'coordinates': {'latitude': 25.14389, 'longitude': 75.821256}, 'country': 'IN', 'city': 'Kota'}, {'location': 'RIICO Ind. Area III, Bhiwadi - RSPCB', 'parameter': 'o3', 'date': {'utc': '2020-10-10T16:30:00Z', 'local': '2020-10-10T22:00:00+05:30'}, 'value': 6.13, 'unit': 'µg/m³', 'coordinates': {'latitude': 28.194909, 'longitude': 76.862296}, 'country': 'IN', 'city': 'Bhiwadi'}, {'location': 'RIICO Ind. Area III, Bhiwadi - RSPCB', 'parameter': 'co', 'date': {'utc': '2020-10-10T16:30:00Z', 'local': '2020-10-10T22:00:00+05:30'}, 'value': 1140, 'unit': 'µg/m³', 'coordinates': {'latitude': 28.194909, 'longitude': 76.862296}, 'country': 'IN', 'city': 'Bhiwadi'}, {'location': 'RIICO Ind. Area III, Bhiwadi - RSPCB', 'parameter': 'so2', 'date': {'utc': '2020-10-10T16:30:00Z', 'local': '2020-10-10T22:00:00+05:30'}, 'value': 50.58, 'unit': 'µg/m³', 'coordinates': {'latitude': 28.194909, 'longitude': 76.862296}, 'country': 'IN', 'city': 'Bhiwadi'}, {'location': 'RIICO Ind. Area III, Bhiwadi - RSPCB', 'parameter': 'no2', 'date': {'utc': '2020-10-10T16:30:00Z', 'local': '2020-10-10T22:00:00+05:30'}, 'value': 224.9, 'unit': 'µg/m³', 'coordinates': {'latitude': 28.194909, 'longitude': 76.862296}, 'country': 'IN', 'city': 'Bhiwadi'}, {'location': 'RIICO Ind. Area III, Bhiwadi - RSPCB', 'parameter': 'pm10', 'date': {'utc': '2020-10-10T16:30:00Z', 'local': '2020-10-10T22:00:00+05:30'}, 'value': 486.35, 'unit': 'µg/m³', 'coordinates': {'latitude': 28.194909, 'longitude': 76.862296}, 'country': 'IN', 'city': 'Bhiwadi'}, {'location': 'RIICO Ind. Area III, Bhiwadi - RSPCB', 'parameter': 'pm25', 'date': {'utc': '2020-10-10T16:30:00Z', 'local': '2020-10-10T22:00:00+05:30'}, 'value': 239.97, 'unit': 'µg/m³', 'coordinates': {'latitude': 28.194909, 'longitude': 76.862296}, 'country': 'IN', 'city': 'Bhiwadi'}, {'location': 'Moti Doongri, Alwar - RSPCB', 'parameter': 'o3', 'date': {'utc': '2020-10-10T16:30:00Z', 'local': '2020-10-10T22:00:00+05:30'}, 'value': 21.76, 'unit': 'µg/m³', 'coordinates': {'latitude': 27.554793, 'longitude': 76.611536}, 'country': 'IN', 'city': ' Alwar'}, {'location': 'Moti Doongri, Alwar - RSPCB', 'parameter': 'co', 'date': {'utc': '2020-10-10T16:30:00Z', 'local': '2020-10-10T22:00:00+05:30'}, 'value': 590, 'unit': 'µg/m³', 'coordinates': {'latitude': 27.554793, 'longitude': 76.611536}, 'country': 'IN', 'city': ' Alwar'}, {'location': 'Moti Doongri, Alwar - RSPCB', 'parameter': 'so2', 'date': {'utc': '2020-10-10T16:30:00Z', 'local': '2020-10-10T22:00:00+05:30'}, 'value': 11.62, 'unit': 'µg/m³', 'coordinates': {'latitude': 27.554793, 'longitude': 76.611536}, 'country': 'IN', 'city': ' Alwar'}, {'location': 'Moti Doongri, Alwar - RSPCB', 'parameter': 'no2', 'date': {'utc': '2020-10-10T16:30:00Z', 'local': '2020-10-10T22:00:00+05:30'}, 'value': 24.65, 'unit': 'µg/m³', 'coordinates': {'latitude': 27.554793, 'longitude': 76.611536}, 'country': 'IN', 'city': ' Alwar'}, {'location': 'Moti Doongri, Alwar - RSPCB', 'parameter': 'pm10', 'date': {'utc': '2020-10-10T16:30:00Z', 'local': '2020-10-10T22:00:00+05:30'}, 'value': 80.77, 'unit': 'µg/m³', 'coordinates': {'latitude': 27.554793, 'longitude': 76.611536}, 'country': 'IN', 'city': ' Alwar'}, {'location': 'Moti Doongri, Alwar - RSPCB', 'parameter': 'pm25', 'date': {'utc': '2020-10-10T16:30:00Z', 'local': '2020-10-10T22:00:00+05:30'}, 'value': 43.32, 'unit': 'µg/m³', 'coordinates': {'latitude': 27.554793, 'longitude': 76.611536}, 'country': 'IN', 'city': ' Alwar'}, {'location': 'Sanjay Palace, Agra - UPPCB', 'parameter': 'o3', 'date': {'utc': '2020-10-10T16:30:00Z', 'local': '2020-10-10T22:00:00+05:30'}, 'value': 71.1, 'unit': 'µg/m³', 'coordinates': {'latitude': 27.19865833, 'longitude': 78.00598056}, 'country': 'IN', 'city': 'Agra'}, {'location': 'Sanjay Palace, Agra - UPPCB', 'parameter': 'co', 'date': {'utc': '2020-10-10T16:30:00Z', 'local': '2020-10-10T22:00:00+05:30'}, 'value': 710, 'unit': 'µg/m³', 'coordinates': {'latitude': 27.19865833, 'longitude': 78.00598056}, 'country': 'IN', 'city': 'Agra'}, {'location': 'Sanjay Palace, Agra - UPPCB', 'parameter': 'so2', 'date': {'utc': '2020-10-10T16:30:00Z', 'local': '2020-10-10T22:00:00+05:30'}, 'value': 7.3, 'unit': 'µg/m³', 'coordinates': {'latitude': 27.19865833, 'longitude': 78.00598056}, 'country': 'IN', 'city': 'Agra'}, {'location': 'Sanjay Palace, Agra - UPPCB', 'parameter': 'no2', 'date': {'utc': '2020-10-10T16:30:00Z', 'local': '2020-10-10T22:00:00+05:30'}, 'value': 75.6, 'unit': 'µg/m³', 'coordinates': {'latitude': 27.19865833, 'longitude': 78.00598056}, 'country': 'IN', 'city': 'Agra'}, {'location': 'Sanjay Palace, Agra - UPPCB', 'parameter': 'pm25', 'date': {'utc': '2020-10-10T16:30:00Z', 'local': '2020-10-10T22:00:00+05:30'}, 'value': 95, 'unit': 'µg/m³', 'coordinates': {'latitude': 27.19865833, 'longitude': 78.00598056}, 'country': 'IN', 'city': 'Agra'}, {'location': 'Manali, Chennai - CPCB', 'parameter': 'co', 'date': {'utc': '2020-10-10T16:30:00Z', 'local': '2020-10-10T22:00:00+05:30'}, 'value': 1280, 'unit': 'µg/m³', 'coordinates': {'latitude': 13.164544, 'longitude': 80.26285}, 'country': 'IN', 'city': 'Chennai'}, {'location': 'Manali, Chennai - CPCB', 'parameter': 'so2', 'date': {'utc': '2020-10-10T16:30:00Z', 'local': '2020-10-10T22:00:00+05:30'}, 'value': 7.34, 'unit': 'µg/m³', 'coordinates': {'latitude': 13.164544, 'longitude': 80.26285}, 'country': 'IN', 'city': 'Chennai'}, {'location': 'Manali, Chennai - CPCB', 'parameter': 'no2', 'date': {'utc': '2020-10-10T16:30:00Z', 'local': '2020-10-10T22:00:00+05:30'}, 'value': 11.21, 'unit': 'µg/m³', 'coordinates': {'latitude': 13.164544, 'longitude': 80.26285}, 'country': 'IN', 'city': 'Chennai'}, {'location': 'Manali, Chennai - CPCB', 'parameter': 'pm25', 'date': {'utc': '2020-10-10T16:30:00Z', 'local': '2020-10-10T22:00:00+05:30'}, 'value': 39.02, 'unit': 'µg/m³', 'coordinates': {'latitude': 13.164544, 'longitude': 80.26285}, 'country': 'IN', 'city': 'Chennai'}, {'location': 'Zoo Park, Hyderabad - TSPCB', 'parameter': 'o3', 'date': {'utc': '2020-10-10T16:30:00Z', 'local': '2020-10-10T22:00:00+05:30'}, 'value': 14.1, 'unit': 'µg/m³', 'coordinates': {'latitude': 17.349694, 'longitude': 78.451437}, 'country': 'IN', 'city': 'Hyderabad'}, {'location': 'Zoo Park, Hyderabad - TSPCB', 'parameter': 'co', 'date': {'utc': '2020-10-10T16:30:00Z', 'local': '2020-10-10T22:00:00+05:30'}, 'value': 220, 'unit': 'µg/m³', 'coordinates': {'latitude': 17.349694, 'longitude': 78.451437}, 'country': 'IN', 'city': 'Hyderabad'}, {'location': 'Zoo Park, Hyderabad - TSPCB', 'parameter': 'so2', 'date': {'utc': '2020-10-10T16:30:00Z', 'local': '2020-10-10T22:00:00+05:30'}, 'value': 4.4, 'unit': 'µg/m³', 'coordinates': {'latitude': 17.349694, 'longitude': 78.451437}, 'country': 'IN', 'city': 'Hyderabad'}, {'location': 'Zoo Park, Hyderabad - TSPCB', 'parameter': 'no2', 'date': {'utc': '2020-10-10T16:30:00Z', 'local': '2020-10-10T22:00:00+05:30'}, 'value': 63.2, 'unit': 'µg/m³', 'coordinates': {'latitude': 17.349694, 'longitude': 78.451437}, 'country': 'IN', 'city': 'Hyderabad'}, {'location': 'Zoo Park, Hyderabad - TSPCB', 'parameter': 'pm10', 'date': {'utc': '2020-10-10T16:30:00Z', 'local': '2020-10-10T22:00:00+05:30'}, 'value': 180, 'unit': 'µg/m³', 'coordinates': {'latitude': 17.349694, 'longitude': 78.451437}, 'country': 'IN', 'city': 'Hyderabad'}, {'location': 'Zoo Park, Hyderabad - TSPCB', 'parameter': 'pm25', 'date': {'utc': '2020-10-10T16:30:00Z', 'local': '2020-10-10T22:00:00+05:30'}, 'value': 84, 'unit': 'µg/m³', 'coordinates': {'latitude': 17.349694, 'longitude': 78.451437}, 'country': 'IN', 'city': 'Hyderabad'}, {'location': 'Talkatora District Industries Center, Lucknow - CPCB', 'parameter': 'o3', 'date': {'utc': '2020-10-10T16:30:00Z', 'local': '2020-10-10T22:00:00+05:30'}, 'value': 1.26, 'unit': 'µg/m³', 'coordinates': {'latitude': 26.83399722, 'longitude': 80.8917361}, 'country': 'IN', 'city': 'Lucknow'}, {'location': 'Talkatora District Industries Center, Lucknow - CPCB', 'parameter': 'co', 'date': {'utc': '2020-10-10T16:30:00Z', 'local': '2020-10-10T22:00:00+05:30'}, 'value': 700, 'unit': 'µg/m³', 'coordinates': {'latitude': 26.83399722, 'longitude': 80.8917361}, 'country': 'IN', 'city': 'Lucknow'}, {'location': 'Talkatora District Industries Center, Lucknow - CPCB', 'parameter': 'so2', 'date': {'utc': '2020-10-10T16:30:00Z', 'local': '2020-10-10T22:00:00+05:30'}, 'value': 10.07, 'unit': 'µg/m³', 'coordinates': {'latitude': 26.83399722, 'longitude': 80.8917361}, 'country': 'IN', 'city': 'Lucknow'}, {'location': 'Talkatora District Industries Center, Lucknow - CPCB', 'parameter': 'no2', 'date': {'utc': '2020-10-10T16:30:00Z', 'local': '2020-10-10T22:00:00+05:30'}, 'value': 135.64, 'unit': 'µg/m³', 'coordinates': {'latitude': 26.83399722, 'longitude': 80.8917361}, 'country': 'IN', 'city': 'Lucknow'}, {'location': 'Talkatora District Industries Center, Lucknow - CPCB', 'parameter': 'pm10', 'date': {'utc': '2020-10-10T16:30:00Z', 'local': '2020-10-10T22:00:00+05:30'}, 'value': 641.97, 'unit': 'µg/m³', 'coordinates': {'latitude': 26.83399722, 'longitude': 80.8917361}, 'country': 'IN', 'city': 'Lucknow'}, {'location': 'Talkatora District Industries Center, Lucknow - CPCB', 'parameter': 'pm25', 'date': {'utc': '2020-10-10T16:30:00Z', 'local': '2020-10-10T22:00:00+05:30'}, 'value': 282.2, 'unit': 'µg/m³', 'coordinates': {'latitude': 26.83399722, 'longitude': 80.8917361}, 'country': 'IN', 'city': 'Lucknow'}, {'location': 'MIDC Khutala, Chandrapur - MPCB', 'parameter': 'o3', 'date': {'utc': '2020-10-10T16:30:00Z', 'local': '2020-10-10T22:00:00+05:30'}, 'value': 2.4, 'unit': 'µg/m³', 'coordinates': {'latitude': 19.9775302, 'longitude': 79.2337086}, 'country': 'IN', 'city': 'Chandrapur'}, {'location': 'MIDC Khutala, Chandrapur - MPCB', 'parameter': 'co', 'date': {'utc': '2020-10-10T16:30:00Z', 'local': '2020-10-10T22:00:00+05:30'}, 'value': 360, 'unit': 'µg/m³', 'coordinates': {'latitude': 19.9775302, 'longitude': 79.2337086}, 'country': 'IN', 'city': 'Chandrapur'}, {'location': 'MIDC Khutala, Chandrapur - MPCB', 'parameter': 'so2', 'date': {'utc': '2020-10-10T16:30:00Z', 'local': '2020-10-10T22:00:00+05:30'}, 'value': 6.33, 'unit': 'µg/m³', 'coordinates': {'latitude': 19.9775302, 'longitude': 79.2337086}, 'country': 'IN', 'city': 'Chandrapur'}, {'location': 'MIDC Khutala, Chandrapur - MPCB', 'parameter': 'no2', 'date': {'utc': '2020-10-10T16:30:00Z', 'local': '2020-10-10T22:00:00+05:30'}, 'value': 19.74, 'unit': 'µg/m³', 'coordinates': {'latitude': 19.9775302, 'longitude': 79.2337086}, 'country': 'IN', 'city': 'Chandrapur'}, {'location': 'MIDC Khutala, Chandrapur - MPCB', 'parameter': 'pm10', 'date': {'utc': '2020-10-10T16:30:00Z', 'local': '2020-10-10T22:00:00+05:30'}, 'value': 141.03, 'unit': 'µg/m³', 'coordinates': {'latitude': 19.9775302, 'longitude': 79.2337086}, 'country': 'IN', 'city': 'Chandrapur'}, {'location': 'MIDC Khutala, Chandrapur - MPCB', 'parameter': 'pm25', 'date': {'utc': '2020-10-10T16:30:00Z', 'local': '2020-10-10T22:00:00+05:30'}, 'value': 89.23, 'unit': 'µg/m³', 'coordinates': {'latitude': 19.9775302, 'longitude': 79.2337086}, 'country': 'IN', 'city': 'Chandrapur'}, {'location': 'Sanathnagar, Hyderabad - TSPCB', 'parameter': 'o3', 'date': {'utc': '2020-10-10T16:30:00Z', 'local': '2020-10-10T22:00:00+05:30'}, 'value': 7.4, 'unit': 'µg/m³', 'coordinates': {'latitude': 17.4559458, 'longitude': 78.4332152}, 'country': 'IN', 'city': 'Hyderabad'}, {'location': 'Sanathnagar, Hyderabad - TSPCB', 'parameter': 'co', 'date': {'utc': '2020-10-10T16:30:00Z', 'local': '2020-10-10T22:00:00+05:30'}, 'value': 1050, 'unit': 'µg/m³', 'coordinates': {'latitude': 17.4559458, 'longitude': 78.4332152}, 'country': 'IN', 'city': 'Hyderabad'}, {'location': 'Sanathnagar, Hyderabad - TSPCB', 'parameter': 'so2', 'date': {'utc': '2020-10-10T16:30:00Z', 'local': '2020-10-10T22:00:00+05:30'}, 'value': 4, 'unit': 'µg/m³', 'coordinates': {'latitude': 17.4559458, 'longitude': 78.4332152}, 'country': 'IN', 'city': 'Hyderabad'}, {'location': 'Sanathnagar, Hyderabad - TSPCB', 'parameter': 'no2', 'date': {'utc': '2020-10-10T16:30:00Z', 'local': '2020-10-10T22:00:00+05:30'}, 'value': 47.9, 'unit': 'µg/m³', 'coordinates': {'latitude': 17.4559458, 'longitude': 78.4332152}, 'country': 'IN', 'city': 'Hyderabad'}, {'location': 'Sanathnagar, Hyderabad - TSPCB', 'parameter': 'pm25', 'date': {'utc': '2020-10-10T16:30:00Z', 'local': '2020-10-10T22:00:00+05:30'}, 'value': 55, 'unit': 'µg/m³', 'coordinates': {'latitude': 17.4559458, 'longitude': 78.4332152}, 'country': 'IN', 'city': 'Hyderabad'}, {'location': 'Alandur Bus Depot, Chennai - CPCB', 'parameter': 'o3', 'date': {'utc': '2020-10-10T16:30:00Z', 'local': '2020-10-10T22:00:00+05:30'}, 'value': 0.68, 'unit': 'µg/m³', 'coordinates': {'latitude': 12.9099161, 'longitude': 80.1076538}, 'country': 'IN', 'city': 'Chennai'}]}\n"
     ]
    }
   ],
   "source": [
    "r = requests.get(url)\n",
    "\n",
    "\n",
    "print(r.status_code)\n",
    "print(r.json())\n",
    "#created a json file\n",
    "out_file = open(\"openaq.json\", \"w\")  \n",
    "    \n",
    "json.dump(r.json(), out_file, indent = 6)  \n",
    "    \n",
    "out_file.close()"
   ]
  },
  {
   "cell_type": "code",
   "execution_count": 5,
   "metadata": {},
   "outputs": [],
   "source": [
    "c = csv.writer(open('myopenaq.csv', 'w'), lineterminator = '\\n')"
   ]
  },
  {
   "cell_type": "code",
   "execution_count": 8,
   "metadata": {},
   "outputs": [],
   "source": [
    "#Adding city, location, parameter, value as columns\n",
    "\n",
    "for item in r.json()['results']:\n",
    "    #print(item['measurements'][0]['parameter'])\n",
    "    #print(item['measurements'][0]['value'])\n",
    "    c.writerow([item['city'],item['location'],item['parameter'],item['value']])"
   ]
  },
  {
   "cell_type": "code",
   "execution_count": null,
   "metadata": {},
   "outputs": [],
   "source": []
  },
  {
   "cell_type": "markdown",
   "metadata": {},
   "source": [
    "# Exploratory Data Analysis"
   ]
  },
  {
   "cell_type": "code",
   "execution_count": 4,
   "metadata": {},
   "outputs": [],
   "source": [
    "import numpy as np\n",
    "import matplotlib.pyplot as plt\n",
    "import seaborn as sns\n",
    "%matplotlib inline"
   ]
  },
  {
   "cell_type": "code",
   "execution_count": 6,
   "metadata": {},
   "outputs": [],
   "source": [
    "df = pd.read_csv('myopenaq.csv')"
   ]
  },
  {
   "cell_type": "code",
   "execution_count": 7,
   "metadata": {},
   "outputs": [
    {
     "data": {
      "text/html": [
       "<div>\n",
       "<style scoped>\n",
       "    .dataframe tbody tr th:only-of-type {\n",
       "        vertical-align: middle;\n",
       "    }\n",
       "\n",
       "    .dataframe tbody tr th {\n",
       "        vertical-align: top;\n",
       "    }\n",
       "\n",
       "    .dataframe thead th {\n",
       "        text-align: right;\n",
       "    }\n",
       "</style>\n",
       "<table border=\"1\" class=\"dataframe\">\n",
       "  <thead>\n",
       "    <tr style=\"text-align: right;\">\n",
       "      <th></th>\n",
       "      <th>city</th>\n",
       "      <th>location</th>\n",
       "      <th>parameter</th>\n",
       "      <th>value</th>\n",
       "    </tr>\n",
       "  </thead>\n",
       "  <tbody>\n",
       "    <tr>\n",
       "      <th>0</th>\n",
       "      <td>Delhi</td>\n",
       "      <td>North Campus, DU, Delhi - IMD</td>\n",
       "      <td>o3</td>\n",
       "      <td>32.14</td>\n",
       "    </tr>\n",
       "    <tr>\n",
       "      <th>1</th>\n",
       "      <td>Delhi</td>\n",
       "      <td>North Campus, DU, Delhi - IMD</td>\n",
       "      <td>no2</td>\n",
       "      <td>46.13</td>\n",
       "    </tr>\n",
       "    <tr>\n",
       "      <th>2</th>\n",
       "      <td>Delhi</td>\n",
       "      <td>North Campus, DU, Delhi - IMD</td>\n",
       "      <td>pm25</td>\n",
       "      <td>97.89</td>\n",
       "    </tr>\n",
       "    <tr>\n",
       "      <th>3</th>\n",
       "      <td>Noida</td>\n",
       "      <td>Sector - 62, Noida - IMD</td>\n",
       "      <td>co</td>\n",
       "      <td>940.00</td>\n",
       "    </tr>\n",
       "    <tr>\n",
       "      <th>4</th>\n",
       "      <td>Noida</td>\n",
       "      <td>Sector - 62, Noida - IMD</td>\n",
       "      <td>pm10</td>\n",
       "      <td>252.53</td>\n",
       "    </tr>\n",
       "  </tbody>\n",
       "</table>\n",
       "</div>"
      ],
      "text/plain": [
       "    city                       location parameter   value\n",
       "0  Delhi  North Campus, DU, Delhi - IMD        o3   32.14\n",
       "1  Delhi  North Campus, DU, Delhi - IMD       no2   46.13\n",
       "2  Delhi  North Campus, DU, Delhi - IMD      pm25   97.89\n",
       "3  Noida       Sector - 62, Noida - IMD        co  940.00\n",
       "4  Noida       Sector - 62, Noida - IMD      pm10  252.53"
      ]
     },
     "execution_count": 7,
     "metadata": {},
     "output_type": "execute_result"
    }
   ],
   "source": [
    "df.head()"
   ]
  },
  {
   "cell_type": "code",
   "execution_count": 8,
   "metadata": {},
   "outputs": [
    {
     "name": "stdout",
     "output_type": "stream",
     "text": [
      "<class 'pandas.core.frame.DataFrame'>\n",
      "RangeIndex: 100 entries, 0 to 99\n",
      "Data columns (total 4 columns):\n",
      " #   Column     Non-Null Count  Dtype  \n",
      "---  ------     --------------  -----  \n",
      " 0   city       100 non-null    object \n",
      " 1   location   100 non-null    object \n",
      " 2   parameter  100 non-null    object \n",
      " 3   value      100 non-null    float64\n",
      "dtypes: float64(1), object(3)\n",
      "memory usage: 3.2+ KB\n"
     ]
    }
   ],
   "source": [
    "df.info()"
   ]
  },
  {
   "cell_type": "code",
   "execution_count": 9,
   "metadata": {},
   "outputs": [
    {
     "data": {
      "text/html": [
       "<div>\n",
       "<style scoped>\n",
       "    .dataframe tbody tr th:only-of-type {\n",
       "        vertical-align: middle;\n",
       "    }\n",
       "\n",
       "    .dataframe tbody tr th {\n",
       "        vertical-align: top;\n",
       "    }\n",
       "\n",
       "    .dataframe thead th {\n",
       "        text-align: right;\n",
       "    }\n",
       "</style>\n",
       "<table border=\"1\" class=\"dataframe\">\n",
       "  <thead>\n",
       "    <tr style=\"text-align: right;\">\n",
       "      <th></th>\n",
       "      <th>value</th>\n",
       "    </tr>\n",
       "  </thead>\n",
       "  <tbody>\n",
       "    <tr>\n",
       "      <th>count</th>\n",
       "      <td>100.000000</td>\n",
       "    </tr>\n",
       "    <tr>\n",
       "      <th>mean</th>\n",
       "      <td>224.075700</td>\n",
       "    </tr>\n",
       "    <tr>\n",
       "      <th>std</th>\n",
       "      <td>375.674502</td>\n",
       "    </tr>\n",
       "    <tr>\n",
       "      <th>min</th>\n",
       "      <td>0.680000</td>\n",
       "    </tr>\n",
       "    <tr>\n",
       "      <th>25%</th>\n",
       "      <td>20.385000</td>\n",
       "    </tr>\n",
       "    <tr>\n",
       "      <th>50%</th>\n",
       "      <td>60.000000</td>\n",
       "    </tr>\n",
       "    <tr>\n",
       "      <th>75%</th>\n",
       "      <td>217.750000</td>\n",
       "    </tr>\n",
       "    <tr>\n",
       "      <th>max</th>\n",
       "      <td>2000.000000</td>\n",
       "    </tr>\n",
       "  </tbody>\n",
       "</table>\n",
       "</div>"
      ],
      "text/plain": [
       "             value\n",
       "count   100.000000\n",
       "mean    224.075700\n",
       "std     375.674502\n",
       "min       0.680000\n",
       "25%      20.385000\n",
       "50%      60.000000\n",
       "75%     217.750000\n",
       "max    2000.000000"
      ]
     },
     "execution_count": 9,
     "metadata": {},
     "output_type": "execute_result"
    }
   ],
   "source": [
    "df.describe()"
   ]
  },
  {
   "cell_type": "code",
   "execution_count": 10,
   "metadata": {},
   "outputs": [
    {
     "data": {
      "text/plain": [
       "array(['o3', 'no2', 'pm25', 'co', 'pm10', 'so2'], dtype=object)"
      ]
     },
     "execution_count": 10,
     "metadata": {},
     "output_type": "execute_result"
    }
   ],
   "source": [
    "df['parameter'].unique()"
   ]
  },
  {
   "cell_type": "code",
   "execution_count": 11,
   "metadata": {},
   "outputs": [
    {
     "data": {
      "text/html": [
       "<div>\n",
       "<style scoped>\n",
       "    .dataframe tbody tr th:only-of-type {\n",
       "        vertical-align: middle;\n",
       "    }\n",
       "\n",
       "    .dataframe tbody tr th {\n",
       "        vertical-align: top;\n",
       "    }\n",
       "\n",
       "    .dataframe thead th {\n",
       "        text-align: right;\n",
       "    }\n",
       "</style>\n",
       "<table border=\"1\" class=\"dataframe\">\n",
       "  <thead>\n",
       "    <tr style=\"text-align: right;\">\n",
       "      <th></th>\n",
       "      <th>city</th>\n",
       "      <th>location</th>\n",
       "      <th>parameter</th>\n",
       "      <th>value</th>\n",
       "    </tr>\n",
       "  </thead>\n",
       "  <tbody>\n",
       "    <tr>\n",
       "      <th>0</th>\n",
       "      <td>Delhi</td>\n",
       "      <td>North Campus, DU, Delhi - IMD</td>\n",
       "      <td>o3</td>\n",
       "      <td>32.14</td>\n",
       "    </tr>\n",
       "    <tr>\n",
       "      <th>1</th>\n",
       "      <td>Delhi</td>\n",
       "      <td>North Campus, DU, Delhi - IMD</td>\n",
       "      <td>no2</td>\n",
       "      <td>46.13</td>\n",
       "    </tr>\n",
       "    <tr>\n",
       "      <th>2</th>\n",
       "      <td>Delhi</td>\n",
       "      <td>North Campus, DU, Delhi - IMD</td>\n",
       "      <td>pm25</td>\n",
       "      <td>97.89</td>\n",
       "    </tr>\n",
       "    <tr>\n",
       "      <th>3</th>\n",
       "      <td>Noida</td>\n",
       "      <td>Sector - 62, Noida - IMD</td>\n",
       "      <td>co</td>\n",
       "      <td>940.00</td>\n",
       "    </tr>\n",
       "    <tr>\n",
       "      <th>4</th>\n",
       "      <td>Noida</td>\n",
       "      <td>Sector - 62, Noida - IMD</td>\n",
       "      <td>pm10</td>\n",
       "      <td>252.53</td>\n",
       "    </tr>\n",
       "  </tbody>\n",
       "</table>\n",
       "</div>"
      ],
      "text/plain": [
       "    city                       location parameter   value\n",
       "0  Delhi  North Campus, DU, Delhi - IMD        o3   32.14\n",
       "1  Delhi  North Campus, DU, Delhi - IMD       no2   46.13\n",
       "2  Delhi  North Campus, DU, Delhi - IMD      pm25   97.89\n",
       "3  Noida       Sector - 62, Noida - IMD        co  940.00\n",
       "4  Noida       Sector - 62, Noida - IMD      pm10  252.53"
      ]
     },
     "execution_count": 11,
     "metadata": {},
     "output_type": "execute_result"
    }
   ],
   "source": [
    "df.head()"
   ]
  },
  {
   "cell_type": "markdown",
   "metadata": {},
   "source": [
    "# Air Quality Index\n",
    "\n",
    "In severel tables in this databse, you'll find a column 'aqi' which stands for Air Quality Index. Basically the AQI is the measure of how air is polluted, with respect to some pollutant. That means that for a specific hour in a specific place you'll have different AQIs, one for each pollutant."
   ]
  },
  {
   "cell_type": "code",
   "execution_count": 12,
   "metadata": {},
   "outputs": [
    {
     "data": {
      "image/png": "[encoded data removed]",
      "text/plain": [
       "<Figure size 2160x1440 with 1 Axes>"
      ]
     },
     "metadata": {
      "needs_background": "light"
     },
     "output_type": "display_data"
    }
   ],
   "source": [
    "#AQI per location\n",
    "df_2 = df.groupby('location').mean()\n",
    "df_2.reset_index(inplace=True)\n",
    "\n",
    "plt.figure(figsize = (30,20))\n",
    "sns.barplot(x='value', y='location', data=df_2,palette ='magma');"
   ]
  },
  {
   "cell_type": "code",
   "execution_count": 13,
   "metadata": {},
   "outputs": [
    {
     "data": {
      "image/png": "[encoded data removed]",
      "text/plain": [
       "<Figure size 864x720 with 1 Axes>"
      ]
     },
     "metadata": {
      "needs_background": "light"
     },
     "output_type": "display_data"
    }
   ],
   "source": [
    "#Distribution of Pollutants \n",
    "\n",
    "\n",
    "#We can observe that the concentration of co is higher than the rest\n",
    "\n",
    "df_3 = df.groupby('parameter').mean()\n",
    "df_3.reset_index(inplace=True)\n",
    "\n",
    "plt.figure(figsize = (12,10))\n",
    "sns.barplot(x='parameter', y='value', data=df_3,palette ='magma');"
   ]
  },
  {
   "cell_type": "code",
   "execution_count": 45,
   "metadata": {},
   "outputs": [
    {
     "name": "stderr",
     "output_type": "stream",
     "text": [
      "C:\\Users\\Home\\anaconda3\\envs\\myenv\\lib\\site-packages\\seaborn\\distributions.py:2551: FutureWarning: `distplot` is a deprecated function and will be removed in a future version. Please adapt your code to use either `displot` (a figure-level function with similar flexibility) or `histplot` (an axes-level function for histograms).\n",
      "  warnings.warn(msg, FutureWarning)\n"
     ]
    },
    {
     "data": {
      "text/plain": [
       "<AxesSubplot:xlabel='value', ylabel='Density'>"
      ]
     },
     "execution_count": 45,
     "metadata": {},
     "output_type": "execute_result"
    },
    {
     "data": {
      "image/png": "[encoded data removed]",
      "text/plain": [
       "<Figure size 864x720 with 1 Axes>"
      ]
     },
     "metadata": {
      "needs_background": "light"
     },
     "output_type": "display_data"
    }
   ],
   "source": [
    "#Distplot of pollution values\n",
    "plt.figure(figsize = (12,10))\n",
    "sns.distplot(df_2['value'])"
   ]
  },
  {
   "cell_type": "code",
   "execution_count": 15,
   "metadata": {},
   "outputs": [
    {
     "data": {
      "text/plain": [
       "<AxesSubplot:xlabel='value', ylabel='location'>"
      ]
     },
     "execution_count": 15,
     "metadata": {},
     "output_type": "execute_result"
    },
    {
     "data": {
      "image/png": "[encoded data removed]",
      "text/plain": [
       "<Figure size 864x504 with 1 Axes>"
      ]
     },
     "metadata": {
      "needs_background": "light"
     },
     "output_type": "display_data"
    }
   ],
   "source": [
    "#Bargraph Representaion of parameter values with respect to locations\n",
    "plt.figure(figsize=(12, 7))\n",
    "sns.boxplot(x='value',y='location',data=df,palette='winter')"
   ]
  },
  {
   "cell_type": "code",
   "execution_count": 16,
   "metadata": {},
   "outputs": [
    {
     "data": {
      "text/html": [
       "<div>\n",
       "<style scoped>\n",
       "    .dataframe tbody tr th:only-of-type {\n",
       "        vertical-align: middle;\n",
       "    }\n",
       "\n",
       "    .dataframe tbody tr th {\n",
       "        vertical-align: top;\n",
       "    }\n",
       "\n",
       "    .dataframe thead th {\n",
       "        text-align: right;\n",
       "    }\n",
       "</style>\n",
       "<table border=\"1\" class=\"dataframe\">\n",
       "  <thead>\n",
       "    <tr style=\"text-align: right;\">\n",
       "      <th>parameter</th>\n",
       "      <th>co</th>\n",
       "      <th>no2</th>\n",
       "      <th>o3</th>\n",
       "      <th>pm10</th>\n",
       "      <th>pm25</th>\n",
       "      <th>so2</th>\n",
       "    </tr>\n",
       "    <tr>\n",
       "      <th>location</th>\n",
       "      <th></th>\n",
       "      <th></th>\n",
       "      <th></th>\n",
       "      <th></th>\n",
       "      <th></th>\n",
       "      <th></th>\n",
       "    </tr>\n",
       "  </thead>\n",
       "  <tbody>\n",
       "    <tr>\n",
       "      <th>Alandur Bus Depot, Chennai - CPCB</th>\n",
       "      <td>100.0</td>\n",
       "      <td>10.29</td>\n",
       "      <td>0.68</td>\n",
       "      <td>0.00</td>\n",
       "      <td>39.48</td>\n",
       "      <td>5.66</td>\n",
       "    </tr>\n",
       "    <tr>\n",
       "      <th>Aya Nagar, Delhi - IMD</th>\n",
       "      <td>1230.0</td>\n",
       "      <td>29.61</td>\n",
       "      <td>21.33</td>\n",
       "      <td>210.31</td>\n",
       "      <td>103.52</td>\n",
       "      <td>0.00</td>\n",
       "    </tr>\n",
       "    <tr>\n",
       "      <th>CRRI Mathura Road, Delhi - IMD</th>\n",
       "      <td>1530.0</td>\n",
       "      <td>76.68</td>\n",
       "      <td>7.49</td>\n",
       "      <td>243.36</td>\n",
       "      <td>88.49</td>\n",
       "      <td>0.00</td>\n",
       "    </tr>\n",
       "    <tr>\n",
       "      <th>Lodhi Road, Delhi - IMD</th>\n",
       "      <td>430.0</td>\n",
       "      <td>16.07</td>\n",
       "      <td>8.22</td>\n",
       "      <td>160.57</td>\n",
       "      <td>44.76</td>\n",
       "      <td>0.00</td>\n",
       "    </tr>\n",
       "    <tr>\n",
       "      <th>MIDC Khutala, Chandrapur - MPCB</th>\n",
       "      <td>360.0</td>\n",
       "      <td>19.74</td>\n",
       "      <td>2.40</td>\n",
       "      <td>141.03</td>\n",
       "      <td>89.23</td>\n",
       "      <td>6.33</td>\n",
       "    </tr>\n",
       "    <tr>\n",
       "      <th>Mahakaleshwar Temple, Ujjain - MPPCB</th>\n",
       "      <td>980.0</td>\n",
       "      <td>35.50</td>\n",
       "      <td>45.40</td>\n",
       "      <td>213.00</td>\n",
       "      <td>98.00</td>\n",
       "      <td>6.40</td>\n",
       "    </tr>\n",
       "    <tr>\n",
       "      <th>Manali, Chennai - CPCB</th>\n",
       "      <td>1280.0</td>\n",
       "      <td>11.21</td>\n",
       "      <td>0.00</td>\n",
       "      <td>0.00</td>\n",
       "      <td>39.02</td>\n",
       "      <td>7.34</td>\n",
       "    </tr>\n",
       "    <tr>\n",
       "      <th>Moti Doongri, Alwar - RSPCB</th>\n",
       "      <td>590.0</td>\n",
       "      <td>24.65</td>\n",
       "      <td>21.76</td>\n",
       "      <td>80.77</td>\n",
       "      <td>43.32</td>\n",
       "      <td>11.62</td>\n",
       "    </tr>\n",
       "    <tr>\n",
       "      <th>North Campus, DU, Delhi - IMD</th>\n",
       "      <td>470.0</td>\n",
       "      <td>46.13</td>\n",
       "      <td>32.14</td>\n",
       "      <td>222.22</td>\n",
       "      <td>97.89</td>\n",
       "      <td>0.00</td>\n",
       "    </tr>\n",
       "    <tr>\n",
       "      <th>RIICO Ind. Area III, Bhiwadi - RSPCB</th>\n",
       "      <td>1140.0</td>\n",
       "      <td>224.90</td>\n",
       "      <td>6.13</td>\n",
       "      <td>486.35</td>\n",
       "      <td>239.97</td>\n",
       "      <td>50.58</td>\n",
       "    </tr>\n",
       "    <tr>\n",
       "      <th>Sanathnagar, Hyderabad - TSPCB</th>\n",
       "      <td>1050.0</td>\n",
       "      <td>47.90</td>\n",
       "      <td>7.40</td>\n",
       "      <td>0.00</td>\n",
       "      <td>55.00</td>\n",
       "      <td>4.00</td>\n",
       "    </tr>\n",
       "    <tr>\n",
       "      <th>Sanjay Palace, Agra - UPPCB</th>\n",
       "      <td>710.0</td>\n",
       "      <td>75.60</td>\n",
       "      <td>71.10</td>\n",
       "      <td>0.00</td>\n",
       "      <td>95.00</td>\n",
       "      <td>7.30</td>\n",
       "    </tr>\n",
       "    <tr>\n",
       "      <th>Sector - 62, Noida - IMD</th>\n",
       "      <td>940.0</td>\n",
       "      <td>20.60</td>\n",
       "      <td>22.43</td>\n",
       "      <td>252.53</td>\n",
       "      <td>100.77</td>\n",
       "      <td>0.00</td>\n",
       "    </tr>\n",
       "    <tr>\n",
       "      <th>Sector-2 Industrial Area, Pithampur - MPPCB</th>\n",
       "      <td>760.0</td>\n",
       "      <td>14.90</td>\n",
       "      <td>56.80</td>\n",
       "      <td>217.00</td>\n",
       "      <td>122.00</td>\n",
       "      <td>12.10</td>\n",
       "    </tr>\n",
       "    <tr>\n",
       "      <th>Shrinath Puram, Kota - RSPCB</th>\n",
       "      <td>2000.0</td>\n",
       "      <td>28.29</td>\n",
       "      <td>10.22</td>\n",
       "      <td>205.00</td>\n",
       "      <td>161.50</td>\n",
       "      <td>10.49</td>\n",
       "    </tr>\n",
       "    <tr>\n",
       "      <th>Talkatora District Industries Center, Lucknow - CPCB</th>\n",
       "      <td>700.0</td>\n",
       "      <td>135.64</td>\n",
       "      <td>1.26</td>\n",
       "      <td>641.97</td>\n",
       "      <td>282.20</td>\n",
       "      <td>10.07</td>\n",
       "    </tr>\n",
       "    <tr>\n",
       "      <th>US Diplomatic Post: Mumbai</th>\n",
       "      <td>0.0</td>\n",
       "      <td>0.00</td>\n",
       "      <td>0.00</td>\n",
       "      <td>0.00</td>\n",
       "      <td>36.00</td>\n",
       "      <td>0.00</td>\n",
       "    </tr>\n",
       "    <tr>\n",
       "      <th>Velachery Res. Area, Chennai - CPCB</th>\n",
       "      <td>0.0</td>\n",
       "      <td>0.00</td>\n",
       "      <td>44.95</td>\n",
       "      <td>0.00</td>\n",
       "      <td>0.00</td>\n",
       "      <td>0.00</td>\n",
       "    </tr>\n",
       "    <tr>\n",
       "      <th>Vindhyachal STPS, Singrauli - MPPCB</th>\n",
       "      <td>1110.0</td>\n",
       "      <td>32.80</td>\n",
       "      <td>27.40</td>\n",
       "      <td>215.00</td>\n",
       "      <td>44.00</td>\n",
       "      <td>23.10</td>\n",
       "    </tr>\n",
       "    <tr>\n",
       "      <th>Zoo Park, Hyderabad - TSPCB</th>\n",
       "      <td>220.0</td>\n",
       "      <td>63.20</td>\n",
       "      <td>14.10</td>\n",
       "      <td>180.00</td>\n",
       "      <td>84.00</td>\n",
       "      <td>4.40</td>\n",
       "    </tr>\n",
       "  </tbody>\n",
       "</table>\n",
       "</div>"
      ],
      "text/plain": [
       "parameter                                               co     no2     o3  \\\n",
       "location                                                                    \n",
       "Alandur Bus Depot, Chennai - CPCB                    100.0   10.29   0.68   \n",
       "Aya Nagar, Delhi - IMD                              1230.0   29.61  21.33   \n",
       "CRRI Mathura Road, Delhi - IMD                      1530.0   76.68   7.49   \n",
       "Lodhi Road, Delhi - IMD                              430.0   16.07   8.22   \n",
       "MIDC Khutala, Chandrapur - MPCB                      360.0   19.74   2.40   \n",
       "Mahakaleshwar Temple, Ujjain - MPPCB                 980.0   35.50  45.40   \n",
       "Manali, Chennai - CPCB                              1280.0   11.21   0.00   \n",
       "Moti Doongri, Alwar - RSPCB                          590.0   24.65  21.76   \n",
       "North Campus, DU, Delhi - IMD                        470.0   46.13  32.14   \n",
       "RIICO Ind. Area III, Bhiwadi - RSPCB                1140.0  224.90   6.13   \n",
       "Sanathnagar, Hyderabad - TSPCB                      1050.0   47.90   7.40   \n",
       "Sanjay Palace, Agra - UPPCB                          710.0   75.60  71.10   \n",
       "Sector - 62, Noida - IMD                             940.0   20.60  22.43   \n",
       "Sector-2 Industrial Area, Pithampur - MPPCB          760.0   14.90  56.80   \n",
       "Shrinath Puram, Kota - RSPCB                        2000.0   28.29  10.22   \n",
       "Talkatora District Industries Center, Lucknow -...   700.0  135.64   1.26   \n",
       "US Diplomatic Post: Mumbai                             0.0    0.00   0.00   \n",
       "Velachery Res. Area, Chennai - CPCB                    0.0    0.00  44.95   \n",
       "Vindhyachal STPS, Singrauli - MPPCB                 1110.0   32.80  27.40   \n",
       "Zoo Park, Hyderabad - TSPCB                          220.0   63.20  14.10   \n",
       "\n",
       "parameter                                             pm10    pm25    so2  \n",
       "location                                                                   \n",
       "Alandur Bus Depot, Chennai - CPCB                     0.00   39.48   5.66  \n",
       "Aya Nagar, Delhi - IMD                              210.31  103.52   0.00  \n",
       "CRRI Mathura Road, Delhi - IMD                      243.36   88.49   0.00  \n",
       "Lodhi Road, Delhi - IMD                             160.57   44.76   0.00  \n",
       "MIDC Khutala, Chandrapur - MPCB                     141.03   89.23   6.33  \n",
       "Mahakaleshwar Temple, Ujjain - MPPCB                213.00   98.00   6.40  \n",
       "Manali, Chennai - CPCB                                0.00   39.02   7.34  \n",
       "Moti Doongri, Alwar - RSPCB                          80.77   43.32  11.62  \n",
       "North Campus, DU, Delhi - IMD                       222.22   97.89   0.00  \n",
       "RIICO Ind. Area III, Bhiwadi - RSPCB                486.35  239.97  50.58  \n",
       "Sanathnagar, Hyderabad - TSPCB                        0.00   55.00   4.00  \n",
       "Sanjay Palace, Agra - UPPCB                           0.00   95.00   7.30  \n",
       "Sector - 62, Noida - IMD                            252.53  100.77   0.00  \n",
       "Sector-2 Industrial Area, Pithampur - MPPCB         217.00  122.00  12.10  \n",
       "Shrinath Puram, Kota - RSPCB                        205.00  161.50  10.49  \n",
       "Talkatora District Industries Center, Lucknow -...  641.97  282.20  10.07  \n",
       "US Diplomatic Post: Mumbai                            0.00   36.00   0.00  \n",
       "Velachery Res. Area, Chennai - CPCB                   0.00    0.00   0.00  \n",
       "Vindhyachal STPS, Singrauli - MPPCB                 215.00   44.00  23.10  \n",
       "Zoo Park, Hyderabad - TSPCB                         180.00   84.00   4.40  "
      ]
     },
     "execution_count": 16,
     "metadata": {},
     "output_type": "execute_result"
    }
   ],
   "source": [
    "#Pivot table for an overall view of dataset\n",
    "pivot = df.pivot_table(values='value',index='location',columns='parameter')\n",
    "pivot = pivot.fillna(0)\n",
    "pivot"
   ]
  },
  {
   "cell_type": "code",
   "execution_count": 17,
   "metadata": {},
   "outputs": [
    {
     "data": {
      "text/plain": [
       "<AxesSubplot:ylabel='parameter'>"
      ]
     },
     "execution_count": 17,
     "metadata": {},
     "output_type": "execute_result"
    },
    {
     "data": {
      "image/png": "[encoded data removed]",
      "text/plain": [
       "<Figure size 432x288 with 1 Axes>"
      ]
     },
     "metadata": {
      "needs_background": "light"
     },
     "output_type": "display_data"
    }
   ],
   "source": [
    "sns.barplot(x=df.index, y=\"parameter\", data=df)"
   ]
  },
  {
   "cell_type": "code",
   "execution_count": 18,
   "metadata": {},
   "outputs": [
    {
     "data": {
      "text/plain": [
       "array(['North Campus, DU, Delhi - IMD', 'Sector - 62, Noida - IMD',\n",
       "       'CRRI Mathura Road, Delhi - IMD', 'Aya Nagar, Delhi - IMD',\n",
       "       'Lodhi Road, Delhi - IMD', 'US Diplomatic Post: Mumbai',\n",
       "       'Sector-2 Industrial Area, Pithampur - MPPCB',\n",
       "       'Mahakaleshwar Temple, Ujjain - MPPCB',\n",
       "       'Vindhyachal STPS, Singrauli - MPPCB',\n",
       "       'Shrinath Puram, Kota - RSPCB',\n",
       "       'RIICO Ind. Area III, Bhiwadi - RSPCB',\n",
       "       'Moti Doongri, Alwar - RSPCB', 'Sanjay Palace, Agra - UPPCB',\n",
       "       'Manali, Chennai - CPCB', 'Zoo Park, Hyderabad - TSPCB',\n",
       "       'Talkatora District Industries Center, Lucknow - CPCB',\n",
       "       'MIDC Khutala, Chandrapur - MPCB',\n",
       "       'Sanathnagar, Hyderabad - TSPCB',\n",
       "       'Alandur Bus Depot, Chennai - CPCB',\n",
       "       'Velachery Res. Area, Chennai - CPCB'], dtype=object)"
      ]
     },
     "execution_count": 18,
     "metadata": {},
     "output_type": "execute_result"
    }
   ],
   "source": [
    "df['location'].unique()"
   ]
  },
  {
   "cell_type": "markdown",
   "metadata": {},
   "source": [
    "# Using Linear Regression to try and Predict the Parameter Values"
   ]
  },
  {
   "cell_type": "code",
   "execution_count": 19,
   "metadata": {},
   "outputs": [],
   "source": [
    "#Data Mining \n",
    "\n",
    "from sklearn.preprocessing import LabelEncoder\n",
    "from sklearn import preprocessing\n",
    "import pandas as pd\n",
    "\n",
    "\n",
    "\n",
    "le = LabelEncoder()\n",
    "\n"
   ]
  },
  {
   "cell_type": "code",
   "execution_count": 20,
   "metadata": {},
   "outputs": [],
   "source": [
    "df['location'] = df[['location']].apply(le.fit_transform)"
   ]
  },
  {
   "cell_type": "code",
   "execution_count": 21,
   "metadata": {},
   "outputs": [],
   "source": [
    "df.drop('city',axis=1,inplace=True)"
   ]
  },
  {
   "cell_type": "code",
   "execution_count": 22,
   "metadata": {},
   "outputs": [
    {
     "name": "stdout",
     "output_type": "stream",
     "text": [
      "<class 'pandas.core.frame.DataFrame'>\n",
      "RangeIndex: 100 entries, 0 to 99\n",
      "Data columns (total 3 columns):\n",
      " #   Column     Non-Null Count  Dtype  \n",
      "---  ------     --------------  -----  \n",
      " 0   location   100 non-null    int32  \n",
      " 1   parameter  100 non-null    object \n",
      " 2   value      100 non-null    float64\n",
      "dtypes: float64(1), int32(1), object(1)\n",
      "memory usage: 2.1+ KB\n"
     ]
    }
   ],
   "source": [
    "df.info()"
   ]
  },
  {
   "cell_type": "code",
   "execution_count": 23,
   "metadata": {},
   "outputs": [],
   "source": [
    "dummies = pd.get_dummies(df['parameter'])"
   ]
  },
  {
   "cell_type": "code",
   "execution_count": 24,
   "metadata": {},
   "outputs": [],
   "source": [
    "df = pd.concat([df,dummies],axis=1)"
   ]
  },
  {
   "cell_type": "code",
   "execution_count": 25,
   "metadata": {},
   "outputs": [
    {
     "data": {
      "text/html": [
       "<div>\n",
       "<style scoped>\n",
       "    .dataframe tbody tr th:only-of-type {\n",
       "        vertical-align: middle;\n",
       "    }\n",
       "\n",
       "    .dataframe tbody tr th {\n",
       "        vertical-align: top;\n",
       "    }\n",
       "\n",
       "    .dataframe thead th {\n",
       "        text-align: right;\n",
       "    }\n",
       "</style>\n",
       "<table border=\"1\" class=\"dataframe\">\n",
       "  <thead>\n",
       "    <tr style=\"text-align: right;\">\n",
       "      <th></th>\n",
       "      <th>location</th>\n",
       "      <th>parameter</th>\n",
       "      <th>value</th>\n",
       "      <th>co</th>\n",
       "      <th>no2</th>\n",
       "      <th>o3</th>\n",
       "      <th>pm10</th>\n",
       "      <th>pm25</th>\n",
       "      <th>so2</th>\n",
       "    </tr>\n",
       "  </thead>\n",
       "  <tbody>\n",
       "    <tr>\n",
       "      <th>0</th>\n",
       "      <td>8</td>\n",
       "      <td>o3</td>\n",
       "      <td>32.14</td>\n",
       "      <td>0</td>\n",
       "      <td>0</td>\n",
       "      <td>1</td>\n",
       "      <td>0</td>\n",
       "      <td>0</td>\n",
       "      <td>0</td>\n",
       "    </tr>\n",
       "    <tr>\n",
       "      <th>1</th>\n",
       "      <td>8</td>\n",
       "      <td>no2</td>\n",
       "      <td>46.13</td>\n",
       "      <td>0</td>\n",
       "      <td>1</td>\n",
       "      <td>0</td>\n",
       "      <td>0</td>\n",
       "      <td>0</td>\n",
       "      <td>0</td>\n",
       "    </tr>\n",
       "    <tr>\n",
       "      <th>2</th>\n",
       "      <td>8</td>\n",
       "      <td>pm25</td>\n",
       "      <td>97.89</td>\n",
       "      <td>0</td>\n",
       "      <td>0</td>\n",
       "      <td>0</td>\n",
       "      <td>0</td>\n",
       "      <td>1</td>\n",
       "      <td>0</td>\n",
       "    </tr>\n",
       "    <tr>\n",
       "      <th>3</th>\n",
       "      <td>12</td>\n",
       "      <td>co</td>\n",
       "      <td>940.00</td>\n",
       "      <td>1</td>\n",
       "      <td>0</td>\n",
       "      <td>0</td>\n",
       "      <td>0</td>\n",
       "      <td>0</td>\n",
       "      <td>0</td>\n",
       "    </tr>\n",
       "    <tr>\n",
       "      <th>4</th>\n",
       "      <td>12</td>\n",
       "      <td>pm10</td>\n",
       "      <td>252.53</td>\n",
       "      <td>0</td>\n",
       "      <td>0</td>\n",
       "      <td>0</td>\n",
       "      <td>1</td>\n",
       "      <td>0</td>\n",
       "      <td>0</td>\n",
       "    </tr>\n",
       "  </tbody>\n",
       "</table>\n",
       "</div>"
      ],
      "text/plain": [
       "   location parameter   value  co  no2  o3  pm10  pm25  so2\n",
       "0         8        o3   32.14   0    0   1     0     0    0\n",
       "1         8       no2   46.13   0    1   0     0     0    0\n",
       "2         8      pm25   97.89   0    0   0     0     1    0\n",
       "3        12        co  940.00   1    0   0     0     0    0\n",
       "4        12      pm10  252.53   0    0   0     1     0    0"
      ]
     },
     "execution_count": 25,
     "metadata": {},
     "output_type": "execute_result"
    }
   ],
   "source": [
    "df.head()"
   ]
  },
  {
   "cell_type": "code",
   "execution_count": 29,
   "metadata": {},
   "outputs": [
    {
     "ename": "KeyError",
     "evalue": "\"['parameter'] not found in axis\"",
     "output_type": "error",
     "traceback": [
      "\u001b[1;31m---------------------------------------------------------------------------\u001b[0m",
      "\u001b[1;31mKeyError\u001b[0m                                  Traceback (most recent call last)",
      "\u001b[1;32m<ipython-input-29-176e0aaf1255>\u001b[0m in \u001b[0;36m<module>\u001b[1;34m\u001b[0m\n\u001b[1;32m----> 1\u001b[1;33m \u001b[0mdf\u001b[0m\u001b[1;33m.\u001b[0m\u001b[0mdrop\u001b[0m\u001b[1;33m(\u001b[0m\u001b[1;34m'parameter'\u001b[0m\u001b[1;33m,\u001b[0m\u001b[0maxis\u001b[0m\u001b[1;33m=\u001b[0m\u001b[1;36m1\u001b[0m\u001b[1;33m,\u001b[0m\u001b[0minplace\u001b[0m\u001b[1;33m=\u001b[0m\u001b[1;32mTrue\u001b[0m\u001b[1;33m)\u001b[0m\u001b[1;33m\u001b[0m\u001b[1;33m\u001b[0m\u001b[0m\n\u001b[0m\u001b[0;32m      2\u001b[0m \u001b[0mdf\u001b[0m\u001b[1;33m.\u001b[0m\u001b[0mdrop\u001b[0m\u001b[1;33m(\u001b[0m\u001b[1;34m'co'\u001b[0m\u001b[1;33m,\u001b[0m\u001b[0maxis\u001b[0m\u001b[1;33m=\u001b[0m\u001b[1;36m1\u001b[0m\u001b[1;33m,\u001b[0m\u001b[0minplace\u001b[0m\u001b[1;33m=\u001b[0m\u001b[1;32mTrue\u001b[0m\u001b[1;33m)\u001b[0m\u001b[1;33m\u001b[0m\u001b[1;33m\u001b[0m\u001b[0m\n",
      "\u001b[1;32m~\\anaconda3\\envs\\myenv\\lib\\site-packages\\pandas\\core\\frame.py\u001b[0m in \u001b[0;36mdrop\u001b[1;34m(self, labels, axis, index, columns, level, inplace, errors)\u001b[0m\n\u001b[0;32m   4158\u001b[0m                 \u001b[0mweight\u001b[0m  \u001b[1;36m1.0\u001b[0m     \u001b[1;36m0.8\u001b[0m\u001b[1;33m\u001b[0m\u001b[1;33m\u001b[0m\u001b[0m\n\u001b[0;32m   4159\u001b[0m         \"\"\"\n\u001b[1;32m-> 4160\u001b[1;33m         return super().drop(\n\u001b[0m\u001b[0;32m   4161\u001b[0m             \u001b[0mlabels\u001b[0m\u001b[1;33m=\u001b[0m\u001b[0mlabels\u001b[0m\u001b[1;33m,\u001b[0m\u001b[1;33m\u001b[0m\u001b[1;33m\u001b[0m\u001b[0m\n\u001b[0;32m   4162\u001b[0m             \u001b[0maxis\u001b[0m\u001b[1;33m=\u001b[0m\u001b[0maxis\u001b[0m\u001b[1;33m,\u001b[0m\u001b[1;33m\u001b[0m\u001b[1;33m\u001b[0m\u001b[0m\n",
      "\u001b[1;32m~\\anaconda3\\envs\\myenv\\lib\\site-packages\\pandas\\core\\generic.py\u001b[0m in \u001b[0;36mdrop\u001b[1;34m(self, labels, axis, index, columns, level, inplace, errors)\u001b[0m\n\u001b[0;32m   3876\u001b[0m         \u001b[1;32mfor\u001b[0m \u001b[0maxis\u001b[0m\u001b[1;33m,\u001b[0m \u001b[0mlabels\u001b[0m \u001b[1;32min\u001b[0m \u001b[0maxes\u001b[0m\u001b[1;33m.\u001b[0m\u001b[0mitems\u001b[0m\u001b[1;33m(\u001b[0m\u001b[1;33m)\u001b[0m\u001b[1;33m:\u001b[0m\u001b[1;33m\u001b[0m\u001b[1;33m\u001b[0m\u001b[0m\n\u001b[0;32m   3877\u001b[0m             \u001b[1;32mif\u001b[0m \u001b[0mlabels\u001b[0m \u001b[1;32mis\u001b[0m \u001b[1;32mnot\u001b[0m \u001b[1;32mNone\u001b[0m\u001b[1;33m:\u001b[0m\u001b[1;33m\u001b[0m\u001b[1;33m\u001b[0m\u001b[0m\n\u001b[1;32m-> 3878\u001b[1;33m                 \u001b[0mobj\u001b[0m \u001b[1;33m=\u001b[0m \u001b[0mobj\u001b[0m\u001b[1;33m.\u001b[0m\u001b[0m_drop_axis\u001b[0m\u001b[1;33m(\u001b[0m\u001b[0mlabels\u001b[0m\u001b[1;33m,\u001b[0m \u001b[0maxis\u001b[0m\u001b[1;33m,\u001b[0m \u001b[0mlevel\u001b[0m\u001b[1;33m=\u001b[0m\u001b[0mlevel\u001b[0m\u001b[1;33m,\u001b[0m \u001b[0merrors\u001b[0m\u001b[1;33m=\u001b[0m\u001b[0merrors\u001b[0m\u001b[1;33m)\u001b[0m\u001b[1;33m\u001b[0m\u001b[1;33m\u001b[0m\u001b[0m\n\u001b[0m\u001b[0;32m   3879\u001b[0m \u001b[1;33m\u001b[0m\u001b[0m\n\u001b[0;32m   3880\u001b[0m         \u001b[1;32mif\u001b[0m \u001b[0minplace\u001b[0m\u001b[1;33m:\u001b[0m\u001b[1;33m\u001b[0m\u001b[1;33m\u001b[0m\u001b[0m\n",
      "\u001b[1;32m~\\anaconda3\\envs\\myenv\\lib\\site-packages\\pandas\\core\\generic.py\u001b[0m in \u001b[0;36m_drop_axis\u001b[1;34m(self, labels, axis, level, errors)\u001b[0m\n\u001b[0;32m   3910\u001b[0m                 \u001b[0mnew_axis\u001b[0m \u001b[1;33m=\u001b[0m \u001b[0maxis\u001b[0m\u001b[1;33m.\u001b[0m\u001b[0mdrop\u001b[0m\u001b[1;33m(\u001b[0m\u001b[0mlabels\u001b[0m\u001b[1;33m,\u001b[0m \u001b[0mlevel\u001b[0m\u001b[1;33m=\u001b[0m\u001b[0mlevel\u001b[0m\u001b[1;33m,\u001b[0m \u001b[0merrors\u001b[0m\u001b[1;33m=\u001b[0m\u001b[0merrors\u001b[0m\u001b[1;33m)\u001b[0m\u001b[1;33m\u001b[0m\u001b[1;33m\u001b[0m\u001b[0m\n\u001b[0;32m   3911\u001b[0m             \u001b[1;32melse\u001b[0m\u001b[1;33m:\u001b[0m\u001b[1;33m\u001b[0m\u001b[1;33m\u001b[0m\u001b[0m\n\u001b[1;32m-> 3912\u001b[1;33m                 \u001b[0mnew_axis\u001b[0m \u001b[1;33m=\u001b[0m \u001b[0maxis\u001b[0m\u001b[1;33m.\u001b[0m\u001b[0mdrop\u001b[0m\u001b[1;33m(\u001b[0m\u001b[0mlabels\u001b[0m\u001b[1;33m,\u001b[0m \u001b[0merrors\u001b[0m\u001b[1;33m=\u001b[0m\u001b[0merrors\u001b[0m\u001b[1;33m)\u001b[0m\u001b[1;33m\u001b[0m\u001b[1;33m\u001b[0m\u001b[0m\n\u001b[0m\u001b[0;32m   3913\u001b[0m             \u001b[0mresult\u001b[0m \u001b[1;33m=\u001b[0m \u001b[0mself\u001b[0m\u001b[1;33m.\u001b[0m\u001b[0mreindex\u001b[0m\u001b[1;33m(\u001b[0m\u001b[1;33m**\u001b[0m\u001b[1;33m{\u001b[0m\u001b[0maxis_name\u001b[0m\u001b[1;33m:\u001b[0m \u001b[0mnew_axis\u001b[0m\u001b[1;33m}\u001b[0m\u001b[1;33m)\u001b[0m\u001b[1;33m\u001b[0m\u001b[1;33m\u001b[0m\u001b[0m\n\u001b[0;32m   3914\u001b[0m \u001b[1;33m\u001b[0m\u001b[0m\n",
      "\u001b[1;32m~\\anaconda3\\envs\\myenv\\lib\\site-packages\\pandas\\core\\indexes\\base.py\u001b[0m in \u001b[0;36mdrop\u001b[1;34m(self, labels, errors)\u001b[0m\n\u001b[0;32m   5274\u001b[0m         \u001b[1;32mif\u001b[0m \u001b[0mmask\u001b[0m\u001b[1;33m.\u001b[0m\u001b[0many\u001b[0m\u001b[1;33m(\u001b[0m\u001b[1;33m)\u001b[0m\u001b[1;33m:\u001b[0m\u001b[1;33m\u001b[0m\u001b[1;33m\u001b[0m\u001b[0m\n\u001b[0;32m   5275\u001b[0m             \u001b[1;32mif\u001b[0m \u001b[0merrors\u001b[0m \u001b[1;33m!=\u001b[0m \u001b[1;34m\"ignore\"\u001b[0m\u001b[1;33m:\u001b[0m\u001b[1;33m\u001b[0m\u001b[1;33m\u001b[0m\u001b[0m\n\u001b[1;32m-> 5276\u001b[1;33m                 \u001b[1;32mraise\u001b[0m \u001b[0mKeyError\u001b[0m\u001b[1;33m(\u001b[0m\u001b[1;34mf\"{labels[mask]} not found in axis\"\u001b[0m\u001b[1;33m)\u001b[0m\u001b[1;33m\u001b[0m\u001b[1;33m\u001b[0m\u001b[0m\n\u001b[0m\u001b[0;32m   5277\u001b[0m             \u001b[0mindexer\u001b[0m \u001b[1;33m=\u001b[0m \u001b[0mindexer\u001b[0m\u001b[1;33m[\u001b[0m\u001b[1;33m~\u001b[0m\u001b[0mmask\u001b[0m\u001b[1;33m]\u001b[0m\u001b[1;33m\u001b[0m\u001b[1;33m\u001b[0m\u001b[0m\n\u001b[0;32m   5278\u001b[0m         \u001b[1;32mreturn\u001b[0m \u001b[0mself\u001b[0m\u001b[1;33m.\u001b[0m\u001b[0mdelete\u001b[0m\u001b[1;33m(\u001b[0m\u001b[0mindexer\u001b[0m\u001b[1;33m)\u001b[0m\u001b[1;33m\u001b[0m\u001b[1;33m\u001b[0m\u001b[0m\n",
      "\u001b[1;31mKeyError\u001b[0m: \"['parameter'] not found in axis\""
     ]
    }
   ],
   "source": [
    "df.drop('parameter',axis=1,inplace=True)\n"
   ]
  },
  {
   "cell_type": "code",
   "execution_count": 32,
   "metadata": {},
   "outputs": [],
   "source": [
    "df.drop('co',axis=1,inplace=True)"
   ]
  },
  {
   "cell_type": "code",
   "execution_count": 33,
   "metadata": {},
   "outputs": [
    {
     "data": {
      "text/html": [
       "<div>\n",
       "<style scoped>\n",
       "    .dataframe tbody tr th:only-of-type {\n",
       "        vertical-align: middle;\n",
       "    }\n",
       "\n",
       "    .dataframe tbody tr th {\n",
       "        vertical-align: top;\n",
       "    }\n",
       "\n",
       "    .dataframe thead th {\n",
       "        text-align: right;\n",
       "    }\n",
       "</style>\n",
       "<table border=\"1\" class=\"dataframe\">\n",
       "  <thead>\n",
       "    <tr style=\"text-align: right;\">\n",
       "      <th></th>\n",
       "      <th>location</th>\n",
       "      <th>value</th>\n",
       "      <th>no2</th>\n",
       "      <th>o3</th>\n",
       "      <th>pm10</th>\n",
       "      <th>pm25</th>\n",
       "      <th>so2</th>\n",
       "    </tr>\n",
       "  </thead>\n",
       "  <tbody>\n",
       "    <tr>\n",
       "      <th>0</th>\n",
       "      <td>8</td>\n",
       "      <td>32.14</td>\n",
       "      <td>0</td>\n",
       "      <td>1</td>\n",
       "      <td>0</td>\n",
       "      <td>0</td>\n",
       "      <td>0</td>\n",
       "    </tr>\n",
       "    <tr>\n",
       "      <th>1</th>\n",
       "      <td>8</td>\n",
       "      <td>46.13</td>\n",
       "      <td>1</td>\n",
       "      <td>0</td>\n",
       "      <td>0</td>\n",
       "      <td>0</td>\n",
       "      <td>0</td>\n",
       "    </tr>\n",
       "    <tr>\n",
       "      <th>2</th>\n",
       "      <td>8</td>\n",
       "      <td>97.89</td>\n",
       "      <td>0</td>\n",
       "      <td>0</td>\n",
       "      <td>0</td>\n",
       "      <td>1</td>\n",
       "      <td>0</td>\n",
       "    </tr>\n",
       "    <tr>\n",
       "      <th>3</th>\n",
       "      <td>12</td>\n",
       "      <td>940.00</td>\n",
       "      <td>0</td>\n",
       "      <td>0</td>\n",
       "      <td>0</td>\n",
       "      <td>0</td>\n",
       "      <td>0</td>\n",
       "    </tr>\n",
       "    <tr>\n",
       "      <th>4</th>\n",
       "      <td>12</td>\n",
       "      <td>252.53</td>\n",
       "      <td>0</td>\n",
       "      <td>0</td>\n",
       "      <td>1</td>\n",
       "      <td>0</td>\n",
       "      <td>0</td>\n",
       "    </tr>\n",
       "  </tbody>\n",
       "</table>\n",
       "</div>"
      ],
      "text/plain": [
       "   location   value  no2  o3  pm10  pm25  so2\n",
       "0         8   32.14    0   1     0     0    0\n",
       "1         8   46.13    1   0     0     0    0\n",
       "2         8   97.89    0   0     0     1    0\n",
       "3        12  940.00    0   0     0     0    0\n",
       "4        12  252.53    0   0     1     0    0"
      ]
     },
     "execution_count": 33,
     "metadata": {},
     "output_type": "execute_result"
    }
   ],
   "source": [
    "df.head()"
   ]
  },
  {
   "cell_type": "code",
   "execution_count": 28,
   "metadata": {},
   "outputs": [],
   "source": [
    "from sklearn.model_selection import train_test_split"
   ]
  },
  {
   "cell_type": "code",
   "execution_count": 34,
   "metadata": {},
   "outputs": [],
   "source": [
    "X = df.drop('value',axis=1)\n",
    "y = df['value']\n",
    "\n",
    "X_train, X_test, y_train, y_test = train_test_split(X, y, test_size=0.20)"
   ]
  },
  {
   "cell_type": "code",
   "execution_count": 38,
   "metadata": {},
   "outputs": [
    {
     "data": {
      "text/plain": [
       "LinearRegression()"
      ]
     },
     "execution_count": 38,
     "metadata": {},
     "output_type": "execute_result"
    }
   ],
   "source": [
    "from sklearn.linear_model import LinearRegression\n",
    "lm = LinearRegression()\n",
    "lm.fit(X_train,y_train)"
   ]
  },
  {
   "cell_type": "code",
   "execution_count": 39,
   "metadata": {},
   "outputs": [
    {
     "name": "stdout",
     "output_type": "stream",
     "text": [
      "854.5822932837993\n"
     ]
    }
   ],
   "source": [
    "print(lm.intercept_)"
   ]
  },
  {
   "cell_type": "code",
   "execution_count": 40,
   "metadata": {},
   "outputs": [
    {
     "data": {
      "text/html": [
       "<div>\n",
       "<style scoped>\n",
       "    .dataframe tbody tr th:only-of-type {\n",
       "        vertical-align: middle;\n",
       "    }\n",
       "\n",
       "    .dataframe tbody tr th {\n",
       "        vertical-align: top;\n",
       "    }\n",
       "\n",
       "    .dataframe thead th {\n",
       "        text-align: right;\n",
       "    }\n",
       "</style>\n",
       "<table border=\"1\" class=\"dataframe\">\n",
       "  <thead>\n",
       "    <tr style=\"text-align: right;\">\n",
       "      <th></th>\n",
       "      <th>Coefficient</th>\n",
       "    </tr>\n",
       "  </thead>\n",
       "  <tbody>\n",
       "    <tr>\n",
       "      <th>location</th>\n",
       "      <td>3.055674</td>\n",
       "    </tr>\n",
       "    <tr>\n",
       "      <th>no2</th>\n",
       "      <td>-827.908917</td>\n",
       "    </tr>\n",
       "    <tr>\n",
       "      <th>o3</th>\n",
       "      <td>-853.956103</td>\n",
       "    </tr>\n",
       "    <tr>\n",
       "      <th>pm10</th>\n",
       "      <td>-636.534314</td>\n",
       "    </tr>\n",
       "    <tr>\n",
       "      <th>pm25</th>\n",
       "      <td>-780.931717</td>\n",
       "    </tr>\n",
       "    <tr>\n",
       "      <th>so2</th>\n",
       "      <td>-874.947434</td>\n",
       "    </tr>\n",
       "  </tbody>\n",
       "</table>\n",
       "</div>"
      ],
      "text/plain": [
       "          Coefficient\n",
       "location     3.055674\n",
       "no2       -827.908917\n",
       "o3        -853.956103\n",
       "pm10      -636.534314\n",
       "pm25      -780.931717\n",
       "so2       -874.947434"
      ]
     },
     "execution_count": 40,
     "metadata": {},
     "output_type": "execute_result"
    }
   ],
   "source": [
    "coeff_df = pd.DataFrame(lm.coef_,X.columns,columns=['Coefficient'])\n",
    "coeff_df"
   ]
  },
  {
   "cell_type": "code",
   "execution_count": 41,
   "metadata": {},
   "outputs": [],
   "source": [
    "predictions = lm.predict(X_test)"
   ]
  },
  {
   "cell_type": "code",
   "execution_count": 42,
   "metadata": {},
   "outputs": [
    {
     "data": {
      "text/plain": [
       "<matplotlib.collections.PathCollection at 0x1f13d9ec880>"
      ]
     },
     "execution_count": 42,
     "metadata": {},
     "output_type": "execute_result"
    },
    {
     "data": {
      "image/png": "[encoded data removed]",
      "text/plain": [
       "<Figure size 432x288 with 1 Axes>"
      ]
     },
     "metadata": {
      "needs_background": "light"
     },
     "output_type": "display_data"
    }
   ],
   "source": [
    "#a few outliers which are the values for co\n",
    "plt.scatter(y_test,predictions)"
   ]
  },
  {
   "cell_type": "code",
   "execution_count": 43,
   "metadata": {},
   "outputs": [
    {
     "name": "stderr",
     "output_type": "stream",
     "text": [
      "C:\\Users\\Home\\anaconda3\\envs\\myenv\\lib\\site-packages\\seaborn\\distributions.py:2551: FutureWarning: `distplot` is a deprecated function and will be removed in a future version. Please adapt your code to use either `displot` (a figure-level function with similar flexibility) or `histplot` (an axes-level function for histograms).\n",
      "  warnings.warn(msg, FutureWarning)\n"
     ]
    },
    {
     "data": {
      "image/png": "[encoded data removed]",
      "text/plain": [
       "<Figure size 432x288 with 1 Axes>"
      ]
     },
     "metadata": {
      "needs_background": "light"
     },
     "output_type": "display_data"
    }
   ],
   "source": [
    "sns.distplot((y_test-predictions),bins=50);"
   ]
  },
  {
   "cell_type": "code",
   "execution_count": 44,
   "metadata": {},
   "outputs": [
    {
     "name": "stdout",
     "output_type": "stream",
     "text": [
      "MAE: 73.73780741922296\n",
      "MSE: 19874.556351366387\n",
      "RMSE: 140.9771483303815\n"
     ]
    }
   ],
   "source": [
    "from sklearn import metrics\n",
    "\n",
    "print('MAE:', metrics.mean_absolute_error(y_test, predictions))\n",
    "print('MSE:', metrics.mean_squared_error(y_test, predictions))\n",
    "print('RMSE:', np.sqrt(metrics.mean_squared_error(y_test, predictions)))"
   ]
  },
  {
   "cell_type": "code",
   "execution_count": null,
   "metadata": {},
   "outputs": [],
   "source": []
  }
 ],
 "metadata": {
  "kernelspec": {
   "display_name": "Python 3",
   "language": "python",
   "name": "python3"
  },
  "language_info": {
   "codemirror_mode": {
    "name": "ipython",
    "version": 3
   },
   "file_extension": ".py",
   "mimetype": "text/x-python",
   "name": "python",
   "nbconvert_exporter": "python",
   "pygments_lexer": "ipython3",
   "version": "3.8.5"
  }
 },
 "nbformat": 4,
 "nbformat_minor": 4
}
